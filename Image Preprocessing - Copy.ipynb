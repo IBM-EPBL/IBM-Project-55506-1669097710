{
  "nbformat": 4,
  "nbformat_minor": 0,
  "metadata": {
    "colab": {
      "provenance": [],
      "collapsed_sections": []
    },
    "kernelspec": {
      "name": "python3",
      "display_name": "Python 3"
    },
    "language_info": {
      "name": "python"
    }
  },
  "cells": [
    {
      "cell_type": "markdown",
      "source": [
        "# Image Pre-processing"
      ],
      "metadata": {
        "id": "fbh_Petwu9Ee"
      }
    },
    {
      "cell_type": "markdown",
      "source": [
        "# Import The ImageDataGenerator"
      ],
      "metadata": {
        "id": "BhrSTMhNa_s1"
      }
    },
    {
      "cell_type": "code",
      "execution_count": null,
      "metadata": {
        "id": "iJkKvVQwT9Hg"
      },
      "outputs": [],
      "source": [
        "from keras.preprocessing.image import ImageDataGenerator"
      ]
    },
    {
      "cell_type": "markdown",
      "source": [
        "# Configure ImageDataGenerator Class"
      ],
      "metadata": {
        "id": "BJ1kAsWDbMW8"
      }
    },
    {
      "cell_type": "code",
      "source": [
        "train_datagen = ImageDataGenerator(rescale=1./255,shear_range=0.2,zoom_range=0.2,horizontal_flip=True)\n",
        "test_datagen = ImageDataGenerator(rescale=1./255)"
      ],
      "metadata": {
        "id": "bLiN2yoJVe5p"
      },
      "execution_count": null,
      "outputs": []
    },
    {
      "cell_type": "code",
      "source": [
        "import os\n",
        "import seaborn as sns\n",
        "sns.set()\n",
        "os.getcwd()"
      ],
      "metadata": {
        "colab": {
          "base_uri": "https://localhost:8080/",
          "height": 35
        },
        "id": "NEWL_xQ7hJla",
        "outputId": "d658d2b0-302a-4d6b-b88b-7de2c625ee81"
      },
      "execution_count": null,
      "outputs": [
        {
          "output_type": "execute_result",
          "data": {
            "text/plain": [
              "'/content'"
            ],
            "application/vnd.google.colaboratory.intrinsic+json": {
              "type": "string"
            }
          },
          "metadata": {},
          "execution_count": 3
        }
      ]
    },
    {
      "cell_type": "code",
      "source": [
        "import zipfile as zf\n",
        "data = zf.ZipFile(r'Dataset.zip')\n",
        "data.extractall('Dataset')\n",
        "data.close()"
      ],
      "metadata": {
        "id": "vRhAK-WBkQQ5"
      },
      "execution_count": null,
      "outputs": []
    },
    {
      "cell_type": "markdown",
      "source": [
        "# Apply Image DataGenerator Functionality To Trainset And Testset"
      ],
      "metadata": {
        "id": "4b4pxlgaumTs"
      }
    },
    {
      "cell_type": "code",
      "source": [
        "#performing data augmentation to train the data\n",
        "x_train=train_datagen.flow_from_directory(\"Dataset/Dataset/Dataset/TRAIN_SET/TRAIN_SET\",target_size=(64,64),batch_size=5,color_mode='rgb',class_mode='sparse')\n",
        "#performing data augmentation to test the data\n",
        "x_test=test_datagen.flow_from_directory(\"Dataset/Dataset/Dataset/TEST_SET/\",target_size=(64,64),batch_size=5,color_mode='rgb',class_mode='sparse')"
      ],
      "metadata": {
        "colab": {
          "base_uri": "https://localhost:8080/"
        },
        "id": "yKh7yFWiVfbD",
        "outputId": "2a2c916e-d7a0-4df4-ca7b-cde12e874eff"
      },
      "execution_count": null,
      "outputs": [
        {
          "output_type": "stream",
          "name": "stdout",
          "text": [
            "Found 2626 images belonging to 5 classes.\n",
            "Found 1055 images belonging to 5 classes.\n"
          ]
        }
      ]
    },
    {
      "cell_type": "code",
      "source": [
        "print(x_train.class_indices)#checking  the no. of classes"
      ],
      "metadata": {
        "colab": {
          "base_uri": "https://localhost:8080/"
        },
        "id": "aRkBc2h-q0g5",
        "outputId": "4a9af662-2e0e-422e-8be4-10b1be8b23a5"
      },
      "execution_count": null,
      "outputs": [
        {
          "output_type": "stream",
          "name": "stdout",
          "text": [
            "{'APPLES': 0, 'BANANA': 1, 'ORANGE': 2, 'PINEAPPLE': 3, 'WATERMELON': 4}\n"
          ]
        }
      ]
    },
    {
      "cell_type": "code",
      "source": [
        "from collections import Counter as c\n",
        "c(x_train.labels)"
      ],
      "metadata": {
        "colab": {
          "base_uri": "https://localhost:8080/"
        },
        "id": "VZ6rqA6_ro94",
        "outputId": "29a7df0a-de12-49c3-95b5-de2cdc7177e1"
      },
      "execution_count": null,
      "outputs": [
        {
          "output_type": "execute_result",
          "data": {
            "text/plain": [
              "Counter({0: 606, 1: 445, 2: 479, 3: 621, 4: 475})"
            ]
          },
          "metadata": {},
          "execution_count": 7
        }
      ]
    }
  ]
}